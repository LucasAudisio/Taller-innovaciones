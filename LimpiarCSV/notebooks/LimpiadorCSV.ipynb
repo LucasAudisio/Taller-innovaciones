{
 "cells": [
  {
   "cell_type": "code",
   "execution_count": 20,
   "metadata": {
    "collapsed": true,
    "ExecuteTime": {
     "end_time": "2023-06-15T02:30:41.215702506Z",
     "start_time": "2023-06-15T02:30:41.170433882Z"
    }
   },
   "outputs": [
    {
     "name": "stdout",
     "output_type": "stream",
     "text": [
      "    anio mes   cania    maiz  fecha_data\n",
      "0   2017  10  16.873  13.623  2017-10-31\n",
      "1   2017  09  16.805  13.609  2017-09-30\n",
      "2   2017  08  16.591  13.383  2017-08-31\n",
      "3   2017  07  16.488  12.939  2017-07-31\n",
      "4   2017  06  16.070  12.942  2017-06-30\n",
      "5   2017  05  15.305  12.848  2017-05-31\n",
      "6   2017  04  14.576  12.858  2017-04-30\n",
      "7   2017  03  14.114  13.452  2017-03-31\n",
      "8   2017  02  13.442  13.510  2017-02-28\n",
      "9   2017  01  13.360  13.203  2017-01-31\n",
      "10  2016  12  13.335  12.784  2016-12-31\n",
      "11  2016  11  13.309  12.630  2016-11-30\n",
      "12  2016  10  13.296  12.457  2016-10-31\n",
      "13  2016  09  13.398  12.628  2016-09-30\n",
      "14  2016  08  13.335  12.555  2016-08-31\n",
      "15  2016  07  13.042  12.473  2016-07-31\n",
      "16  2016  06  12.774  11.872  2016-06-30\n",
      "17  2016  05  12.456  11.295  2016-05-31\n",
      "18  2016  04  11.055  10.374  2016-04-30\n",
      "19  2016  03  10.915  09.431  2016-03-31\n",
      "20  2016  02  10.648  08.421  2016-02-29\n",
      "21  2016  01  10.324  08.020  2016-01-31\n",
      "22  2015  12  09.832  07.638  2015-12-31\n",
      "23  2015  11  09.819  07.472  2015-11-30\n",
      "24  2015  10  09.794  07.347  2015-10-31\n",
      "25  2015  09  09.730  07.296  2015-09-30\n",
      "26  2015  08  09.628  07.402  2015-08-31\n",
      "27  2015  07  09.437  07.171  2015-07-31\n",
      "28  2015  06  08.987  07.032  2015-06-30\n",
      "29  2015  05  08.559  06.965  2015-05-31\n",
      "30  2015  04  08.558  06.954  2015-04-30\n",
      "31  2015  03  08.534  07.016  2015-03-31\n",
      "32  2015  02  08.613  07.385  2015-02-28\n",
      "33  2015  01  08.622  07.774  2015-01-31\n",
      "34  2014  12  08.595  08.183  2014-12-31\n",
      "35  2014  11  08.614  08.614  2014-11-30\n",
      "36  2014  10  09.067  09.067  2014-10-31\n"
     ]
    }
   ],
   "source": [
    "import pandas as pd\n",
    "import numpy as np\n",
    "\n",
    "def resolver_espacios(valor):\n",
    "    valor = str(valor)\n",
    "    if valor[0] == ' ':\n",
    "        valor = valor[1:]\n",
    "    if valor == '':\n",
    "        valor = np.nan\n",
    "    if valor == 'nan':\n",
    "        valor = np.nan\n",
    "    return valor\n",
    "\n",
    "# fija el largo del valor a 2\n",
    "def resolver_mes(valor):\n",
    "    valor = str(valor)\n",
    "    if len(valor) == 1:\n",
    "        valor = \"0\" + valor\n",
    "    return valor\n",
    "\n",
    "# fija el largo del cania y maiz a 6 (5 numeros y el .)\n",
    "def resolver_cania_maiz(valor):\n",
    "    valor = str(valor)\n",
    "    if valor[1] == \".\":\n",
    "        valor = \"0\" + valor\n",
    "    if len(valor) == 5:\n",
    "        valor = valor + \"0\"\n",
    "    return valor\n",
    "\n",
    "# se asegura que los valores de la fecha esten separados por \"-\"\n",
    "def resolver_fecha(valor):\n",
    "    valor = str(valor)\n",
    "    valor = valor[:4] + \"-\" + valor[5:7] + \"-\" + valor[8:]\n",
    "    return  valor\n",
    "\n",
    "csv = pd.read_csv(\"../data/datosSucios.csv\")\n",
    "\n",
    "csvColumnas = list(csv.columns)\n",
    "\n",
    "csv = csv.applymap(resolver_espacios)\n",
    "csv.dropna(inplace=True)\n",
    "\n",
    "csv[\"mes\"] = csv[\"mes\"].apply(resolver_mes)\n",
    "csv[\"cania\"] = csv[\"cania\"].apply(resolver_cania_maiz)\n",
    "csv[\"maiz\"] = csv[\"maiz\"].apply(resolver_cania_maiz)\n",
    "csv[\"fecha_data\"] = csv[\"fecha_data\"].apply(resolver_fecha)\n",
    "\n",
    "print(csv)"
   ]
  },
  {
   "cell_type": "code",
   "execution_count": 6,
   "outputs": [],
   "source": [],
   "metadata": {
    "collapsed": false,
    "ExecuteTime": {
     "end_time": "2023-06-08T03:05:17.706808452Z",
     "start_time": "2023-06-08T03:05:17.665525299Z"
    }
   }
  }
 ],
 "metadata": {
  "kernelspec": {
   "display_name": "Python 3",
   "language": "python",
   "name": "python3"
  },
  "language_info": {
   "codemirror_mode": {
    "name": "ipython",
    "version": 2
   },
   "file_extension": ".py",
   "mimetype": "text/x-python",
   "name": "python",
   "nbconvert_exporter": "python",
   "pygments_lexer": "ipython2",
   "version": "2.7.6"
  }
 },
 "nbformat": 4,
 "nbformat_minor": 0
}
